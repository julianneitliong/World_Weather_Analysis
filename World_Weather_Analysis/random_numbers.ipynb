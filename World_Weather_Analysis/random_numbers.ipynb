{
 "cells": [
  {
   "cell_type": "code",
   "execution_count": 2,
   "id": "d21e5ad9",
   "metadata": {},
   "outputs": [],
   "source": [
    "#import the random module\n",
    "import random"
   ]
  },
  {
   "cell_type": "code",
   "execution_count": 3,
   "id": "7309a6b1",
   "metadata": {},
   "outputs": [
    {
     "data": {
      "text/plain": [
       "-12"
      ]
     },
     "execution_count": 3,
     "metadata": {},
     "output_type": "execute_result"
    }
   ],
   "source": [
    "#generates random interger\n",
    "random.randint(-90, 90)"
   ]
  },
  {
   "cell_type": "code",
   "execution_count": 4,
   "id": "2c6c0a39",
   "metadata": {},
   "outputs": [
    {
     "data": {
      "text/plain": [
       "0.7552273423295398"
      ]
     },
     "execution_count": 4,
     "metadata": {},
     "output_type": "execute_result"
    }
   ],
   "source": [
    "#generates random floating point\n",
    "random.random()"
   ]
  },
  {
   "cell_type": "code",
   "execution_count": 5,
   "id": "40893cca",
   "metadata": {},
   "outputs": [
    {
     "data": {
      "text/plain": [
       "83.9804588469503"
      ]
     },
     "execution_count": 5,
     "metadata": {},
     "output_type": "execute_result"
    }
   ],
   "source": [
    "#add these two together to make lat/long\n",
    "random_number = random.randint(-90,89) + random.random()\n",
    "random_number"
   ]
  },
  {
   "cell_type": "code",
   "execution_count": 6,
   "id": "d050c349",
   "metadata": {},
   "outputs": [],
   "source": [
    "#create an alogrithm that will generate latitudes between -90 and 89.\n",
    "#generate 10 random floating point decimal latitudes between -90 and 89\n",
    "#assign the variable x\n",
    "x = 1\n",
    "#initialize the list\n",
    "latitudes = []\n",
    "#start iteration and keep going as long as x is less than 11\n",
    "while x < 11:\n",
    "    random_lat = random.randint(-90, 89) + random.random()\n",
    "    latitudes.append(random_lat)\n",
    "    x += 1"
   ]
  },
  {
   "cell_type": "code",
   "execution_count": 7,
   "id": "d2342ac6",
   "metadata": {},
   "outputs": [
    {
     "data": {
      "text/plain": [
       "[-32.55792444714447,\n",
       " 1.66667811349789,\n",
       " -84.0672400283041,\n",
       " 51.02499500214378,\n",
       " -19.14472630552664,\n",
       " -16.03539344186174,\n",
       " 77.9362749445362,\n",
       " -60.50780033269275,\n",
       " 89.88226398413997,\n",
       " 42.12566372910596]"
      ]
     },
     "execution_count": 7,
     "metadata": {},
     "output_type": "execute_result"
    }
   ],
   "source": [
    "latitudes"
   ]
  },
  {
   "cell_type": "code",
   "execution_count": 8,
   "id": "5ec1876b",
   "metadata": {},
   "outputs": [
    {
     "data": {
      "text/plain": [
       "18"
      ]
     },
     "execution_count": 8,
     "metadata": {},
     "output_type": "execute_result"
    }
   ],
   "source": [
    "#creates a range and the step number is the difference between each number in the sequence\n",
    "random.randrange(-90,90,step=3)"
   ]
  },
  {
   "cell_type": "code",
   "execution_count": 9,
   "id": "b9f1ac2b",
   "metadata": {},
   "outputs": [
    {
     "data": {
      "text/plain": [
       "-8.613089781143145"
      ]
     },
     "execution_count": 9,
     "metadata": {},
     "output_type": "execute_result"
    }
   ],
   "source": [
    "#output is a floating decimal-point number\n",
    "random.uniform(-90,90)"
   ]
  },
  {
   "cell_type": "code",
   "execution_count": 11,
   "id": "380a9a88",
   "metadata": {},
   "outputs": [],
   "source": [
    "#import the NumPy module\n",
    "import numpy as np"
   ]
  },
  {
   "cell_type": "code",
   "execution_count": 12,
   "id": "01d73fd7",
   "metadata": {},
   "outputs": [
    {
     "data": {
      "text/plain": [
       "86.99739202790906"
      ]
     },
     "execution_count": 12,
     "metadata": {},
     "output_type": "execute_result"
    }
   ],
   "source": [
    "np.random.uniform(-90.000, 90.000)"
   ]
  },
  {
   "cell_type": "code",
   "execution_count": 13,
   "id": "6db7e90f",
   "metadata": {},
   "outputs": [
    {
     "data": {
      "text/plain": [
       "array([ 65.73166376, -48.22096658,  47.83242477, -86.59664333,\n",
       "         3.30716834, -86.12992398,   9.27394496,  11.91728456,\n",
       "        87.17291014, -45.64509647,  59.53336909,  -1.43840201,\n",
       "       -36.01877131,  14.76147496, -53.08713614, -84.73295587,\n",
       "        38.0868738 , -21.49411987,  51.93262981,  42.51140819,\n",
       "        62.78360486, -11.51415319,  38.90745191, -22.40307973,\n",
       "       -80.92798543,  13.2419602 ,  24.6093071 , -51.52290087,\n",
       "        14.07826859, -58.51629716, -79.09623105,  75.13365679,\n",
       "        30.16050768,  31.77527212,  -8.89755514,  42.32049489,\n",
       "       -16.8640185 , -59.05830195,  39.64663172,  -0.22768736,\n",
       "        29.43198604, -88.56950936, -55.71894177,   2.87800319,\n",
       "        13.05775522,  33.51361286,  68.11000698, -41.81067077,\n",
       "         7.45907774,  34.27087719])"
      ]
     },
     "execution_count": 13,
     "metadata": {},
     "output_type": "execute_result"
    }
   ],
   "source": [
    "np.random.uniform(-90.000, 90.000, size=50)"
   ]
  },
  {
   "cell_type": "code",
   "execution_count": 14,
   "id": "0243fd8c",
   "metadata": {},
   "outputs": [],
   "source": [
    "#import timeit\n",
    "import timeit"
   ]
  },
  {
   "cell_type": "code",
   "execution_count": 15,
   "id": "59eb65eb",
   "metadata": {},
   "outputs": [
    {
     "name": "stdout",
     "output_type": "stream",
     "text": [
      "13 µs ± 181 ns per loop (mean ± std. dev. of 7 runs, 100000 loops each)\n"
     ]
    }
   ],
   "source": [
    "%timeit np.random.uniform(-90.000, 90.000, size=1500)"
   ]
  },
  {
   "cell_type": "code",
   "execution_count": 16,
   "id": "b59b5a8f",
   "metadata": {},
   "outputs": [
    {
     "name": "stdout",
     "output_type": "stream",
     "text": [
      "1.32 ms ± 2.38 µs per loop (mean ± std. dev. of 7 runs, 1000 loops each)\n"
     ]
    }
   ],
   "source": [
    "def latitudes(size):\n",
    "    latitudes = []\n",
    "    x = 0\n",
    "    while x < (size):\n",
    "        random_lat = random.randint(-90, 90) + random.random()\n",
    "        latitudes.append(random_lat)\n",
    "        x += 1\n",
    "    return latitudes\n",
    "# Call the function with 1500.\n",
    "%timeit latitudes(1500)"
   ]
  },
  {
   "cell_type": "code",
   "execution_count": 1,
   "id": "825d52bf",
   "metadata": {},
   "outputs": [],
   "source": [
    "# Import the dependencies.\n",
    "import pandas as pd\n",
    "import matplotlib.pyplot as plt\n",
    "import numpy as np"
   ]
  },
  {
   "cell_type": "code",
   "execution_count": 2,
   "id": "ad51a728",
   "metadata": {},
   "outputs": [
    {
     "data": {
      "text/plain": [
       "<zip at 0x7fa754781880>"
      ]
     },
     "execution_count": 2,
     "metadata": {},
     "output_type": "execute_result"
    }
   ],
   "source": [
    "# Create a set of random latitude and longitude combinations.\n",
    "lats = np.random.uniform(low=-90.000, high=90.000, size=1500)\n",
    "lngs = np.random.uniform(low=-180.000, high=180.000, size=1500)\n",
    "lat_lngs = zip(lats, lngs)\n",
    "lat_lngs"
   ]
  },
  {
   "cell_type": "code",
   "execution_count": 3,
   "id": "49c8bacf",
   "metadata": {},
   "outputs": [],
   "source": [
    "# Add the latitudes and longitudes to a list.\n",
    "coordinates = list(lat_lngs)"
   ]
  },
  {
   "cell_type": "code",
   "execution_count": null,
   "id": "d55735ad",
   "metadata": {},
   "outputs": [],
   "source": []
  }
 ],
 "metadata": {
  "kernelspec": {
   "display_name": "PythonData",
   "language": "python",
   "name": "pythondata"
  },
  "language_info": {
   "codemirror_mode": {
    "name": "ipython",
    "version": 3
   },
   "file_extension": ".py",
   "mimetype": "text/x-python",
   "name": "python",
   "nbconvert_exporter": "python",
   "pygments_lexer": "ipython3",
   "version": "3.9.7"
  }
 },
 "nbformat": 4,
 "nbformat_minor": 5
}
